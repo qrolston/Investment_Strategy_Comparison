{
 "cells": [
  {
   "cell_type": "code",
   "execution_count": 2,
   "id": "5041528b-6d47-410f-8c1e-17305e4b6e41",
   "metadata": {},
   "outputs": [],
   "source": [
    "import pandas as pd\n",
    "import sqlalchemy as sql"
   ]
  },
  {
   "cell_type": "code",
   "execution_count": 3,
   "id": "bd3f89ea-4a70-4c34-aa47-3db209bdaa80",
   "metadata": {},
   "outputs": [],
   "source": [
    "recessions={\n",
    "    'savings_and_loans_crisis': pd.date_range('1990-07', '1991-03'), \n",
    "    'dot_com_bust': pd.date_range('2001-03', '2001-11'), \n",
    "    'great_recession': pd.date_range('2007-12', '2009-06'), \n",
    "    'covid': pd.date_range('2020-04', '2020-06'), \n",
    "    # subject to change\n",
    "    'current': pd.date_range('2022-01', '2022-08-09')\n",
    "}"
   ]
  },
  {
   "cell_type": "code",
   "execution_count": 4,
   "id": "4152e981-159b-4883-9ffd-59c5efb8d06b",
   "metadata": {},
   "outputs": [],
   "source": [
    "engine=sql.create_engine('sqlite:///recession_analysis.db')"
   ]
  },
  {
   "cell_type": "code",
   "execution_count": 5,
   "id": "7c047b88-e032-4a02-8404-eed659752645",
   "metadata": {},
   "outputs": [
    {
     "data": {
      "text/html": [
       "<div>\n",
       "<style scoped>\n",
       "    .dataframe tbody tr th:only-of-type {\n",
       "        vertical-align: middle;\n",
       "    }\n",
       "\n",
       "    .dataframe tbody tr th {\n",
       "        vertical-align: top;\n",
       "    }\n",
       "\n",
       "    .dataframe thead th {\n",
       "        text-align: right;\n",
       "    }\n",
       "</style>\n",
       "<table border=\"1\" class=\"dataframe\">\n",
       "  <thead>\n",
       "    <tr style=\"text-align: right;\">\n",
       "      <th>ticker</th>\n",
       "      <th>IYT</th>\n",
       "      <th>MSCI</th>\n",
       "      <th>SPY</th>\n",
       "      <th>VENAX</th>\n",
       "      <th>VGHCX</th>\n",
       "      <th>^IXIC</th>\n",
       "    </tr>\n",
       "    <tr>\n",
       "      <th>Date</th>\n",
       "      <th></th>\n",
       "      <th></th>\n",
       "      <th></th>\n",
       "      <th></th>\n",
       "      <th></th>\n",
       "      <th></th>\n",
       "    </tr>\n",
       "  </thead>\n",
       "  <tbody>\n",
       "    <tr>\n",
       "      <th>1971-02-05</th>\n",
       "      <td>NaN</td>\n",
       "      <td>NaN</td>\n",
       "      <td>NaN</td>\n",
       "      <td>NaN</td>\n",
       "      <td>NaN</td>\n",
       "      <td>NaN</td>\n",
       "    </tr>\n",
       "    <tr>\n",
       "      <th>1971-02-08</th>\n",
       "      <td>NaN</td>\n",
       "      <td>NaN</td>\n",
       "      <td>NaN</td>\n",
       "      <td>NaN</td>\n",
       "      <td>NaN</td>\n",
       "      <td>0.008400</td>\n",
       "    </tr>\n",
       "    <tr>\n",
       "      <th>1971-02-09</th>\n",
       "      <td>NaN</td>\n",
       "      <td>NaN</td>\n",
       "      <td>NaN</td>\n",
       "      <td>NaN</td>\n",
       "      <td>NaN</td>\n",
       "      <td>-0.000793</td>\n",
       "    </tr>\n",
       "    <tr>\n",
       "      <th>1971-02-10</th>\n",
       "      <td>NaN</td>\n",
       "      <td>NaN</td>\n",
       "      <td>NaN</td>\n",
       "      <td>NaN</td>\n",
       "      <td>NaN</td>\n",
       "      <td>-0.000695</td>\n",
       "    </tr>\n",
       "    <tr>\n",
       "      <th>1971-02-11</th>\n",
       "      <td>NaN</td>\n",
       "      <td>NaN</td>\n",
       "      <td>NaN</td>\n",
       "      <td>NaN</td>\n",
       "      <td>NaN</td>\n",
       "      <td>0.007548</td>\n",
       "    </tr>\n",
       "  </tbody>\n",
       "</table>\n",
       "</div>"
      ],
      "text/plain": [
       "ticker      IYT  MSCI  SPY  VENAX  VGHCX     ^IXIC\n",
       "Date                                              \n",
       "1971-02-05  NaN   NaN  NaN    NaN    NaN       NaN\n",
       "1971-02-08  NaN   NaN  NaN    NaN    NaN  0.008400\n",
       "1971-02-09  NaN   NaN  NaN    NaN    NaN -0.000793\n",
       "1971-02-10  NaN   NaN  NaN    NaN    NaN -0.000695\n",
       "1971-02-11  NaN   NaN  NaN    NaN    NaN  0.007548"
      ]
     },
     "execution_count": 5,
     "metadata": {},
     "output_type": "execute_result"
    }
   ],
   "source": [
    "sql_query=f'select * from price_history'\n",
    "price_history=pd.read_sql(sql_query, con=engine, index_col='Date', parse_dates='Date')\n",
    "\n",
    "price_history=price_history.pivot(columns='ticker', values='Close').pct_change()\n",
    "price_history.head()"
   ]
  },
  {
   "cell_type": "code",
   "execution_count": 22,
   "id": "aa688166-548d-4c9e-a2a9-9e0871299531",
   "metadata": {},
   "outputs": [],
   "source": [
    "post_recessions={}\n",
    "for recession_name, recession_dates in recessions.items(): \n",
    "    post_recessions[recession_name]=pd.date_range(start=recession_dates[-1], periods=252)"
   ]
  },
  {
   "cell_type": "code",
   "execution_count": 23,
   "id": "00b42c9b-de2d-4773-b04d-b3871df3c3be",
   "metadata": {},
   "outputs": [],
   "source": [
    "recession_return={}\n",
    "for recession_name, recession_dates in post_recessions.items(): \n",
    "    recession_df=price_history.loc[price_history.index.isin(recession_dates)]\n",
    "    recession_return[recession_name]=(recession_df+1).cumprod().iloc[-1]"
   ]
  },
  {
   "cell_type": "code",
   "execution_count": 24,
   "id": "31fd4b72-ea4f-4eb9-8613-e9f1514732ea",
   "metadata": {},
   "outputs": [
    {
     "data": {
      "text/html": [
       "<div>\n",
       "<style scoped>\n",
       "    .dataframe tbody tr th:only-of-type {\n",
       "        vertical-align: middle;\n",
       "    }\n",
       "\n",
       "    .dataframe tbody tr th {\n",
       "        vertical-align: top;\n",
       "    }\n",
       "\n",
       "    .dataframe thead th {\n",
       "        text-align: right;\n",
       "    }\n",
       "</style>\n",
       "<table border=\"1\" class=\"dataframe\">\n",
       "  <thead>\n",
       "    <tr style=\"text-align: right;\">\n",
       "      <th>ticker</th>\n",
       "      <th>IYT</th>\n",
       "      <th>MSCI</th>\n",
       "      <th>SPY</th>\n",
       "      <th>VENAX</th>\n",
       "      <th>VGHCX</th>\n",
       "      <th>^IXIC</th>\n",
       "    </tr>\n",
       "  </thead>\n",
       "  <tbody>\n",
       "    <tr>\n",
       "      <th>savings_and_loans_crisis</th>\n",
       "      <td>NaN</td>\n",
       "      <td>NaN</td>\n",
       "      <td>NaN</td>\n",
       "      <td>NaN</td>\n",
       "      <td>1.187798</td>\n",
       "      <td>1.203443</td>\n",
       "    </tr>\n",
       "    <tr>\n",
       "      <th>dot_com_bust</th>\n",
       "      <td>NaN</td>\n",
       "      <td>NaN</td>\n",
       "      <td>0.879264</td>\n",
       "      <td>NaN</td>\n",
       "      <td>0.859968</td>\n",
       "      <td>0.796361</td>\n",
       "    </tr>\n",
       "    <tr>\n",
       "      <th>great_recession</th>\n",
       "      <td>1.212385</td>\n",
       "      <td>1.353079</td>\n",
       "      <td>1.171011</td>\n",
       "      <td>1.076732</td>\n",
       "      <td>1.189376</td>\n",
       "      <td>1.206720</td>\n",
       "    </tr>\n",
       "    <tr>\n",
       "      <th>covid</th>\n",
       "      <td>1.423212</td>\n",
       "      <td>1.312468</td>\n",
       "      <td>1.290226</td>\n",
       "      <td>1.190851</td>\n",
       "      <td>1.099552</td>\n",
       "      <td>1.460115</td>\n",
       "    </tr>\n",
       "    <tr>\n",
       "      <th>current</th>\n",
       "      <td>0.990057</td>\n",
       "      <td>0.986283</td>\n",
       "      <td>0.994673</td>\n",
       "      <td>1.000000</td>\n",
       "      <td>1.000000</td>\n",
       "      <td>0.987189</td>\n",
       "    </tr>\n",
       "  </tbody>\n",
       "</table>\n",
       "</div>"
      ],
      "text/plain": [
       "ticker                         IYT      MSCI       SPY     VENAX     VGHCX  \\\n",
       "savings_and_loans_crisis       NaN       NaN       NaN       NaN  1.187798   \n",
       "dot_com_bust                   NaN       NaN  0.879264       NaN  0.859968   \n",
       "great_recession           1.212385  1.353079  1.171011  1.076732  1.189376   \n",
       "covid                     1.423212  1.312468  1.290226  1.190851  1.099552   \n",
       "current                   0.990057  0.986283  0.994673  1.000000  1.000000   \n",
       "\n",
       "ticker                       ^IXIC  \n",
       "savings_and_loans_crisis  1.203443  \n",
       "dot_com_bust              0.796361  \n",
       "great_recession           1.206720  \n",
       "covid                     1.460115  \n",
       "current                   0.987189  "
      ]
     },
     "execution_count": 24,
     "metadata": {},
     "output_type": "execute_result"
    }
   ],
   "source": [
    "pd.DataFrame(recession_return).T"
   ]
  },
  {
   "cell_type": "code",
   "execution_count": 1,
   "id": "436aa335-ca8e-4ff2-972d-bf4aa00ec9a5",
   "metadata": {},
   "outputs": [],
   "source": [
    "# Visually looking at the variance graph, Dot Com Bust most resembles current recession which would allude to SPY being the best investment.\n",
    "# However also indicating that return after 252 days we are still at a negative return and therefore may need more time to recover. \n",
    "# Overall MSCI representing Fianancial Sector and ^IXIC representing Tech Sector did well overall recessions where data was available."
   ]
  },
  {
   "cell_type": "code",
   "execution_count": null,
   "id": "a2a6f025-15d0-4b7e-b3a3-aa11a56c4727",
   "metadata": {},
   "outputs": [],
   "source": []
  }
 ],
 "metadata": {
  "kernelspec": {
   "display_name": "Python 3 (ipykernel)",
   "language": "python",
   "name": "python3"
  },
  "language_info": {
   "codemirror_mode": {
    "name": "ipython",
    "version": 3
   },
   "file_extension": ".py",
   "mimetype": "text/x-python",
   "name": "python",
   "nbconvert_exporter": "python",
   "pygments_lexer": "ipython3",
   "version": "3.7.13"
  }
 },
 "nbformat": 4,
 "nbformat_minor": 5
}
